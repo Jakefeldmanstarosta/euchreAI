{
 "cells": [
  {
   "cell_type": "code",
   "execution_count": 3,
   "id": "8e532d71",
   "metadata": {},
   "outputs": [],
   "source": [
    "import random "
   ]
  },
  {
   "cell_type": "code",
   "execution_count": 9,
   "id": "943cd3f1",
   "metadata": {},
   "outputs": [],
   "source": [
    "ranks = ['9', '10', 'J', 'Q', 'K', 'A']\n",
    "suits = ['spades', 'hearts', 'diamonds', 'clubs']"
   ]
  },
  {
   "cell_type": "code",
   "execution_count": 81,
   "id": "36c2785f",
   "metadata": {},
   "outputs": [],
   "source": [
    "class Card:\n",
    "    \n",
    "    symbols = {\n",
    "        'spades': '♠',\n",
    "        'hearts': '❤',\n",
    "        'diamonds': '♦',\n",
    "        'clubs': '♣'\n",
    "    }\n",
    "    \n",
    "    def __init__(self, rank, suit):\n",
    "        self.rank = rank\n",
    "        self.suit = suit\n",
    "        \n",
    "    def __repr__(self):\n",
    "        symbol = self.symbols[self.suit]\n",
    "        return self.rank + symbol"
   ]
  },
  {
   "cell_type": "code",
   "execution_count": 86,
   "id": "ca28d5f0",
   "metadata": {},
   "outputs": [],
   "source": [
    "#create deck\n",
    "\n",
    "def create_deck():\n",
    "    deck = [Card(rank, suit) for rank in ranks for suit in suits]\n",
    "    return deck"
   ]
  },
  {
   "cell_type": "code",
   "execution_count": 89,
   "id": "51040013",
   "metadata": {
    "collapsed": true
   },
   "outputs": [
    {
     "data": {
      "text/plain": [
       "[9♠,\n",
       " 9❤,\n",
       " 9♦,\n",
       " 9♣,\n",
       " 10♠,\n",
       " 10❤,\n",
       " 10♦,\n",
       " 10♣,\n",
       " J♠,\n",
       " J❤,\n",
       " J♦,\n",
       " J♣,\n",
       " Q♠,\n",
       " Q❤,\n",
       " Q♦,\n",
       " Q♣,\n",
       " K♠,\n",
       " K❤,\n",
       " K♦,\n",
       " K♣,\n",
       " A♠,\n",
       " A❤,\n",
       " A♦,\n",
       " A♣]"
      ]
     },
     "execution_count": 89,
     "metadata": {},
     "output_type": "execute_result"
    }
   ],
   "source": [
    "newDeck = create_deck()\n",
    "newDeck"
   ]
  },
  {
   "cell_type": "code",
   "execution_count": 225,
   "id": "08152fb5",
   "metadata": {},
   "outputs": [],
   "source": [
    "#create players and game\n",
    "\n",
    "class Player:\n",
    "    def __init__(self, name):\n",
    "        self.hand = []\n",
    "        self.name = name\n",
    " \n",
    "\n",
    "class Game:      \n",
    "    def __init__(self):\n",
    "        self.players = {\n",
    "            'north': Player('north'),\n",
    "            'east': Player('east'),\n",
    "            'south': Player('south'),\n",
    "            'west': Player('west')\n",
    "        }\n",
    "        self.deck = create_deck()\n",
    "        self.discard = []\n",
    "        self.trick = []\n",
    "    def print_game():\n",
    "        print(\n",
    "            \"north: \" + str(newGame.players['north'].hand) +\n",
    "            \"\\neast:  \" + str(newGame.players['east'].hand) +\n",
    "            \"\\nsouth: \" + str(newGame.players['south'].hand) +\n",
    "            \"\\nwest:  \" + str(newGame.players['west'].hand) + '\\n' \n",
    "        )"
   ]
  },
  {
   "cell_type": "code",
   "execution_count": 226,
   "id": "5910aa19",
   "metadata": {},
   "outputs": [],
   "source": [
    "def shuffle(deck):\n",
    "    return random.shuffle(deck)\n",
    "\n",
    "def deal(deck, players):\n",
    "    shuffle(deck)\n",
    "    players['north'].hand = deck[0:5]\n",
    "    players['east'].hand = deck[5:10]\n",
    "    players['south'].hand = deck[10:15]\n",
    "    players['west'].hand = deck[15:20]\n"
   ]
  },
  {
   "cell_type": "code",
   "execution_count": 268,
   "id": "6d2188a3",
   "metadata": {},
   "outputs": [
    {
     "name": "stdout",
     "output_type": "stream",
     "text": [
      "north: [K♦, 10♦, Q♣, J❤, K♠]\n",
      "east:  [Q♠, J♠, A♦, 9♦, K❤]\n",
      "south: [Q❤, 9♣, 10♣, J♦, 10❤]\n",
      "west:  [Q♦, 10♠, A♠, A♣, 9♠]\n",
      "\n"
     ]
    }
   ],
   "source": [
    "newGame = Game()\n",
    "deal(newGame.deck, newGame.players)\n",
    "Game.print_game()"
   ]
  },
  {
   "cell_type": "code",
   "execution_count": null,
   "id": "0fc1dc67",
   "metadata": {},
   "outputs": [],
   "source": []
  }
 ],
 "metadata": {
  "kernelspec": {
   "display_name": "Python 3 (ipykernel)",
   "language": "python",
   "name": "python3"
  },
  "language_info": {
   "codemirror_mode": {
    "name": "ipython",
    "version": 3
   },
   "file_extension": ".py",
   "mimetype": "text/x-python",
   "name": "python",
   "nbconvert_exporter": "python",
   "pygments_lexer": "ipython3",
   "version": "3.11.4"
  }
 },
 "nbformat": 4,
 "nbformat_minor": 5
}
