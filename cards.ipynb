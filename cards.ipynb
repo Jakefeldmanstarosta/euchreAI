{
 "cells": [
  {
   "cell_type": "code",
   "execution_count": 1,
   "id": "1441e1aa",
   "metadata": {},
   "outputs": [],
   "source": [
    "# Done\n",
    "# List out cards \n",
    "# \n",
    "\n",
    "\n",
    "# To Do \n",
    "# Create functional players\n",
    "# Create funtional game \n",
    "# Define a suit "
   ]
  },
  {
   "cell_type": "code",
   "execution_count": 2,
   "id": "7ae6bf46",
   "metadata": {},
   "outputs": [],
   "source": [
    "import random "
   ]
  },
  {
   "cell_type": "code",
   "execution_count": 3,
   "id": "10bad04c",
   "metadata": {},
   "outputs": [],
   "source": [
    "ranks = ['9', '10', 'J', 'Q', 'K', 'A']\n",
    "suits = ['spades', 'hearts', 'diamonds', 'clubs']\n",
    "symbols = {\n",
    "        'spades': '♠',\n",
    "        'hearts': '❤',\n",
    "        'diamonds': '♦',\n",
    "        'clubs': '♣'\n",
    "    }"
   ]
  },
  {
   "cell_type": "code",
   "execution_count": 4,
   "id": "0ee0210c",
   "metadata": {},
   "outputs": [],
   "source": [
    "class Card:\n",
    "    def __init__(self, rank, suit):\n",
    "        self.rank = rank\n",
    "        self.suit = suit\n",
    "        \n",
    "    def __repr__(self):\n",
    "        symbol = symbols[self.suit]\n",
    "        return self.rank + symbol"
   ]
  },
  {
   "cell_type": "code",
   "execution_count": 5,
   "id": "c0d19679",
   "metadata": {},
   "outputs": [],
   "source": [
    "#create deck\n",
    "\n",
    "def create_deck():\n",
    "    deck = [Card(rank, suit) for rank in ranks for suit in suits]\n",
    "    return deck"
   ]
  },
  {
   "cell_type": "code",
   "execution_count": 6,
   "id": "cd34e2ee",
   "metadata": {},
   "outputs": [
    {
     "data": {
      "text/plain": [
       "[9♠,\n",
       " 9❤,\n",
       " 9♦,\n",
       " 9♣,\n",
       " 10♠,\n",
       " 10❤,\n",
       " 10♦,\n",
       " 10♣,\n",
       " J♠,\n",
       " J❤,\n",
       " J♦,\n",
       " J♣,\n",
       " Q♠,\n",
       " Q❤,\n",
       " Q♦,\n",
       " Q♣,\n",
       " K♠,\n",
       " K❤,\n",
       " K♦,\n",
       " K♣,\n",
       " A♠,\n",
       " A❤,\n",
       " A♦,\n",
       " A♣]"
      ]
     },
     "execution_count": 6,
     "metadata": {},
     "output_type": "execute_result"
    }
   ],
   "source": [
    "newDeck = create_deck()\n",
    "newDeck"
   ]
  },
  {
   "cell_type": "code",
   "execution_count": 7,
   "id": "5ea80071",
   "metadata": {},
   "outputs": [],
   "source": [
    "#create players and game\n",
    "\n",
    "class Player:\n",
    "    def __init__(self, name):\n",
    "        self.hand = [] #Assume alreay shuffle \n",
    "        self.name = name\n",
    "        \n",
    "    def play(self, game):\n",
    "        #Remove one card from player, add it to deck \n",
    "        game.trick = pop(self.hand)\n",
    "        \n",
    "\n",
    "class Game:      \n",
    "    def __init__(self):\n",
    "        self.players = {\n",
    "            'north': Player('north'),\n",
    "            'east': Player('east'),\n",
    "            'south': Player('south'),\n",
    "            'west': Player('west')\n",
    "        }\n",
    "        self.deck = create_deck()\n",
    "        self.discard = []\n",
    "        self.trick = []\n",
    "        self.suit = random.choice(symbols)\n",
    "        \n",
    "    def print_game(self):\n",
    "        print(\n",
    "            \"north: \" + str(self.players['north'].hand) +\n",
    "            \"\\neast:  \" + str(self.players['east'].hand) +\n",
    "            \"\\nsouth: \" + str(self.players['south'].hand) +\n",
    "            \"\\nwest:  \" + str(self.players['west'].hand) + '\\n' \n",
    "        )\n",
    "    \n",
    "    def round(self, starting_position):\n",
    "        for player in self.player:\n",
    "            player.play(self.deck)\n",
    "        "
   ]
  },
  {
   "cell_type": "code",
   "execution_count": 8,
   "id": "06cc4ae6",
   "metadata": {},
   "outputs": [],
   "source": [
    "def shuffle(deck):\n",
    "    return random.shuffle(deck)\n",
    "\n",
    "def deal(deck, players):\n",
    "    shuffle(deck)\n",
    "    players['north'].hand = deck[0:5]\n",
    "    players['east'].hand = deck[5:10]\n",
    "    players['south'].hand = deck[10:15]\n",
    "    players['west'].hand = deck[15:20]\n"
   ]
  },
  {
   "cell_type": "code",
   "execution_count": 9,
   "id": "f34b1314",
   "metadata": {},
   "outputs": [
    {
     "ename": "KeyError",
     "evalue": "1",
     "output_type": "error",
     "traceback": [
      "\u001b[1;31m---------------------------------------------------------------------------\u001b[0m",
      "\u001b[1;31mKeyError\u001b[0m                                  Traceback (most recent call last)",
      "Cell \u001b[1;32mIn[9], line 1\u001b[0m\n\u001b[1;32m----> 1\u001b[0m newGame \u001b[38;5;241m=\u001b[39m Game()\n\u001b[0;32m      2\u001b[0m deal(newGame\u001b[38;5;241m.\u001b[39mdeck, newGame\u001b[38;5;241m.\u001b[39mplayers)\n\u001b[0;32m      3\u001b[0m newGame\u001b[38;5;241m.\u001b[39mprint_game()\n",
      "Cell \u001b[1;32mIn[7], line 24\u001b[0m, in \u001b[0;36mGame.__init__\u001b[1;34m(self)\u001b[0m\n\u001b[0;32m     22\u001b[0m \u001b[38;5;28mself\u001b[39m\u001b[38;5;241m.\u001b[39mdiscard \u001b[38;5;241m=\u001b[39m []\n\u001b[0;32m     23\u001b[0m \u001b[38;5;28mself\u001b[39m\u001b[38;5;241m.\u001b[39mtrick \u001b[38;5;241m=\u001b[39m []\n\u001b[1;32m---> 24\u001b[0m \u001b[38;5;28mself\u001b[39m\u001b[38;5;241m.\u001b[39msuit \u001b[38;5;241m=\u001b[39m random\u001b[38;5;241m.\u001b[39mchoice(symbols)\n",
      "File \u001b[1;32m~\\anaconda3\\Lib\\random.py:374\u001b[0m, in \u001b[0;36mRandom.choice\u001b[1;34m(self, seq)\u001b[0m\n\u001b[0;32m    372\u001b[0m \u001b[38;5;28;01mif\u001b[39;00m \u001b[38;5;129;01mnot\u001b[39;00m \u001b[38;5;28mlen\u001b[39m(seq):\n\u001b[0;32m    373\u001b[0m     \u001b[38;5;28;01mraise\u001b[39;00m \u001b[38;5;167;01mIndexError\u001b[39;00m(\u001b[38;5;124m'\u001b[39m\u001b[38;5;124mCannot choose from an empty sequence\u001b[39m\u001b[38;5;124m'\u001b[39m)\n\u001b[1;32m--> 374\u001b[0m \u001b[38;5;28;01mreturn\u001b[39;00m seq[\u001b[38;5;28mself\u001b[39m\u001b[38;5;241m.\u001b[39m_randbelow(\u001b[38;5;28mlen\u001b[39m(seq))]\n",
      "\u001b[1;31mKeyError\u001b[0m: 1"
     ]
    }
   ],
   "source": [
    "newGame = Game()\n",
    "deal(newGame.deck, newGame.players)\n",
    "newGame.print_game()\n",
    "\n",
    "newGame.round()\n"
   ]
  }
 ],
 "metadata": {
  "kernelspec": {
   "display_name": "Python 3 (ipykernel)",
   "language": "python",
   "name": "python3"
  },
  "language_info": {
   "codemirror_mode": {
    "name": "ipython",
    "version": 3
   },
   "file_extension": ".py",
   "mimetype": "text/x-python",
   "name": "python",
   "nbconvert_exporter": "python",
   "pygments_lexer": "ipython3",
   "version": "3.11.4"
  }
 },
 "nbformat": 4,
 "nbformat_minor": 5
}
