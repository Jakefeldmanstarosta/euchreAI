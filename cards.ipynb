{
 "cells": [
  {
   "cell_type": "code",
   "execution_count": 3,
   "id": "7ae6bf46",
   "metadata": {},
   "outputs": [],
   "source": [
    "import random "
   ]
  },
  {
   "cell_type": "code",
   "execution_count": 9,
   "id": "10bad04c",
   "metadata": {},
   "outputs": [],
   "source": [
    "ranks = ['9', '10', 'J', 'Q', 'K', 'A']\n",
    "suits = ['spades', 'hearts', 'diamonds', 'clubs']"
   ]
  },
  {
   "cell_type": "code",
   "execution_count": 81,
   "id": "0ee0210c",
   "metadata": {},
   "outputs": [],
   "source": [
    "class Card:\n",
    "    \n",
    "    symbols = {\n",
    "        'spades': '♠',\n",
    "        'hearts': '❤',\n",
    "        'diamonds': '♦',\n",
    "        'clubs': '♣'\n",
    "    }\n",
    "    \n",
    "    def __init__(self, rank, suit):\n",
    "        self.rank = rank\n",
    "        self.suit = suit\n",
    "        \n",
    "    def __repr__(self):\n",
    "        symbol = self.symbols[self.suit]\n",
    "        return self.rank + symbol"
   ]
  },
  {
   "cell_type": "code",
   "execution_count": 86,
   "id": "c0d19679",
   "metadata": {},
   "outputs": [],
   "source": [
    "#create deck\n",
    "\n",
    "def create_deck():\n",
    "    deck = [Card(rank, suit) for rank in ranks for suit in suits]\n",
    "    return deck"
   ]
  },
  {
   "cell_type": "code",
   "execution_count": 89,
   "id": "cd34e2ee",
   "metadata": {
    "collapsed": true
   },
   "outputs": [
    {
     "data": {
      "text/plain": [
       "[9♠,\n",
       " 9❤,\n",
       " 9♦,\n",
       " 9♣,\n",
       " 10♠,\n",
       " 10❤,\n",
       " 10♦,\n",
       " 10♣,\n",
       " J♠,\n",
       " J❤,\n",
       " J♦,\n",
       " J♣,\n",
       " Q♠,\n",
       " Q❤,\n",
       " Q♦,\n",
       " Q♣,\n",
       " K♠,\n",
       " K❤,\n",
       " K♦,\n",
       " K♣,\n",
       " A♠,\n",
       " A❤,\n",
       " A♦,\n",
       " A♣]"
      ]
     },
     "execution_count": 89,
     "metadata": {},
     "output_type": "execute_result"
    }
   ],
   "source": [
    "newDeck = create_deck()\n",
    "newDeck"
   ]
  },
  {
   "cell_type": "code",
   "execution_count": 273,
   "id": "5ea80071",
   "metadata": {},
   "outputs": [],
   "source": [
    "#create players and game\n",
    "\n",
    "class Player:\n",
    "    def __init__(self, name):\n",
    "        self.hand = []\n",
    "        self.name = name\n",
    "        \n",
    "    def play(self, game):\n",
    "        \n",
    "\n",
    "class Game:      \n",
    "    def __init__(self):\n",
    "        self.players = {\n",
    "            'north': Player('north'),\n",
    "            'east': Player('east'),\n",
    "            'south': Player('south'),\n",
    "            'west': Player('west')\n",
    "        }\n",
    "        self.deck = create_deck()\n",
    "        self.discard = []\n",
    "        self.trick = []\n",
    "        \n",
    "    def print_game(self):\n",
    "        print(\n",
    "            \"north: \" + str(self.players['north'].hand) +\n",
    "            \"\\neast:  \" + str(self.players['east'].hand) +\n",
    "            \"\\nsouth: \" + str(self.players['south'].hand) +\n",
    "            \"\\nwest:  \" + str(self.players['west'].hand) + '\\n' \n",
    "        )\n",
    "    \n",
    "    def round(self, starting_position):\n",
    "        ... \n",
    "        "
   ]
  },
  {
   "cell_type": "code",
   "execution_count": 274,
   "id": "06cc4ae6",
   "metadata": {},
   "outputs": [],
   "source": [
    "def shuffle(deck):\n",
    "    return random.shuffle(deck)\n",
    "\n",
    "def deal(deck, players):\n",
    "    shuffle(deck)\n",
    "    players['north'].hand = deck[0:5]\n",
    "    players['east'].hand = deck[5:10]\n",
    "    players['south'].hand = deck[10:15]\n",
    "    players['west'].hand = deck[15:20]\n"
   ]
  },
  {
   "cell_type": "code",
   "execution_count": 276,
   "id": "f34b1314",
   "metadata": {},
   "outputs": [
    {
     "name": "stdout",
     "output_type": "stream",
     "text": [
      "north: [K♣, A❤, Q♠, Q❤, Q♣]\n",
      "east:  [J♠, J♣, K❤, A♦, 9♦]\n",
      "south: [A♠, A♣, J♦, K♠, 10❤]\n",
      "west:  [10♣, 9♣, J❤, Q♦, 9♠]\n",
      "\n"
     ]
    }
   ],
   "source": [
    "newGame = Game()\n",
    "deal(newGame.deck, newGame.players)\n",
    "newGame.print_game()"
   ]
  },
  {
   "cell_type": "code",
   "execution_count": null,
   "id": "1441e1aa",
   "metadata": {},
   "outputs": [],
   "source": []
  }
 ],
 "metadata": {
  "kernelspec": {
   "display_name": "Python 3 (ipykernel)",
   "language": "python",
   "name": "python3"
  },
  "language_info": {
   "codemirror_mode": {
    "name": "ipython",
    "version": 3
   },
   "file_extension": ".py",
   "mimetype": "text/x-python",
   "name": "python",
   "nbconvert_exporter": "python",
   "pygments_lexer": "ipython3",
   "version": "3.11.4"
  }
 },
 "nbformat": 4,
 "nbformat_minor": 5
}
