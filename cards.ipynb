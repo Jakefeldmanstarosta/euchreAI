{
 "cells": [
  {
   "cell_type": "code",
   "execution_count": 3,
   "id": "2bc1c433",
   "metadata": {},
   "outputs": [],
   "source": [
    "import random "
   ]
  },
  {
   "cell_type": "code",
   "execution_count": 9,
   "id": "099d00e8",
   "metadata": {},
   "outputs": [],
   "source": [
    "ranks = ['9', '10', 'J', 'Q', 'K', 'A']\n",
    "suits = ['spades', 'hearts', 'diamonds', 'clubs']"
   ]
  },
  {
   "cell_type": "code",
   "execution_count": 81,
   "id": "ca4cf31b",
   "metadata": {},
   "outputs": [],
   "source": [
    "class Card:\n",
    "    \n",
    "    symbols = {\n",
    "        'spades': '♠',\n",
    "        'hearts': '❤',\n",
    "        'diamonds': '♦',\n",
    "        'clubs': '♣'\n",
    "    }\n",
    "    \n",
    "    def __init__(self, rank, suit):\n",
    "        self.rank = rank\n",
    "        self.suit = suit\n",
    "        \n",
    "    def __repr__(self):\n",
    "        symbol = self.symbols[self.suit]\n",
    "        return self.rank + symbol"
   ]
  },
  {
   "cell_type": "code",
   "execution_count": 82,
   "id": "157e8971",
   "metadata": {},
   "outputs": [
    {
     "data": {
      "text/plain": [
       "9♣"
      ]
     },
     "execution_count": 82,
     "metadata": {},
     "output_type": "execute_result"
    }
   ],
   "source": [
    "ex = Card('9', 'clubs')\n",
    "ex"
   ]
  },
  {
   "cell_type": "code",
   "execution_count": 86,
   "id": "ebedc1bd",
   "metadata": {},
   "outputs": [],
   "source": [
    "#create deck\n",
    "def create_deck():\n",
    "    deck = [Card(rank, suit) for rank in ranks for suit in suits]\n",
    "    return deck"
   ]
  },
  {
   "cell_type": "code",
   "execution_count": 89,
   "id": "b913fc84",
   "metadata": {
    "collapsed": true
   },
   "outputs": [
    {
     "data": {
      "text/plain": [
       "[9♠,\n",
       " 9❤,\n",
       " 9♦,\n",
       " 9♣,\n",
       " 10♠,\n",
       " 10❤,\n",
       " 10♦,\n",
       " 10♣,\n",
       " J♠,\n",
       " J❤,\n",
       " J♦,\n",
       " J♣,\n",
       " Q♠,\n",
       " Q❤,\n",
       " Q♦,\n",
       " Q♣,\n",
       " K♠,\n",
       " K❤,\n",
       " K♦,\n",
       " K♣,\n",
       " A♠,\n",
       " A❤,\n",
       " A♦,\n",
       " A♣]"
      ]
     },
     "execution_count": 89,
     "metadata": {},
     "output_type": "execute_result"
    }
   ],
   "source": [
    "newDeck = create_deck()\n",
    "newDeck"
   ]
  },
  {
   "cell_type": "code",
   "execution_count": 90,
   "id": "75741165",
   "metadata": {},
   "outputs": [],
   "source": [
    "def shuffle(deck):\n",
    "    return random.shuffle(deck)\n",
    "\n",
    "def deal(deck):\n",
    "    shuffle(deck)\n",
    "    north = deck[0:5]\n",
    "    east = deck[5:10]\n",
    "    south = deck[10:15]\n",
    "    west = deck[15:20]\n",
    "    return [north, east, south, west]"
   ]
  },
  {
   "cell_type": "code",
   "execution_count": 91,
   "id": "858aaba2",
   "metadata": {},
   "outputs": [
    {
     "data": {
      "text/plain": [
       "[[Q❤, A♣, A❤, 9❤, J♦],\n",
       " [9♦, J♠, 9♠, 10♣, Q♠],\n",
       " [K❤, 9♣, 10❤, K♦, K♠],\n",
       " [A♠, K♣, 10♠, J❤, 10♦]]"
      ]
     },
     "execution_count": 91,
     "metadata": {},
     "output_type": "execute_result"
    }
   ],
   "source": [
    "deal(newDeck)"
   ]
  }
 ],
 "metadata": {
  "kernelspec": {
   "display_name": "Python 3 (ipykernel)",
   "language": "python",
   "name": "python3"
  },
  "language_info": {
   "codemirror_mode": {
    "name": "ipython",
    "version": 3
   },
   "file_extension": ".py",
   "mimetype": "text/x-python",
   "name": "python",
   "nbconvert_exporter": "python",
   "pygments_lexer": "ipython3",
   "version": "3.11.4"
  }
 },
 "nbformat": 4,
 "nbformat_minor": 5
}
