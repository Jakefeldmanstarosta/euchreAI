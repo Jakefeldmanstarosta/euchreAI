{
 "cells": [
  {
   "cell_type": "code",
   "execution_count": 3,
   "id": "25c41f2e",
   "metadata": {},
   "outputs": [],
   "source": [
    "import random "
   ]
  },
  {
   "cell_type": "code",
   "execution_count": 9,
   "id": "9f621771",
   "metadata": {},
   "outputs": [],
   "source": [
    "ranks = ['9', '10', 'J', 'Q', 'K', 'A']\n",
    "suits = ['spades', 'hearts', 'diamonds', 'clubs']"
   ]
  },
  {
   "cell_type": "code",
   "execution_count": 38,
   "id": "5b9cc076",
   "metadata": {},
   "outputs": [],
   "source": [
    "class Card:\n",
    "    def __init__(self, rank, suit):\n",
    "        self.rank = rank\n",
    "        self.suit = suit\n",
    "        \n",
    "    def __repr__(self):\n",
    "        return self.rank + \" of \" + self.suit"
   ]
  },
  {
   "cell_type": "code",
   "execution_count": 39,
   "id": "4006f49b",
   "metadata": {},
   "outputs": [
    {
     "data": {
      "text/plain": [
       "9 of clubs"
      ]
     },
     "execution_count": 39,
     "metadata": {},
     "output_type": "execute_result"
    }
   ],
   "source": [
    "ex = Card('9', 'clubs')\n",
    "ex"
   ]
  },
  {
   "cell_type": "code",
   "execution_count": 41,
   "id": "ecb52750",
   "metadata": {},
   "outputs": [],
   "source": [
    "#create deck\n",
    "deck = [Card(rank, suit) for rank in ranks for suit in suits]"
   ]
  },
  {
   "cell_type": "code",
   "execution_count": 42,
   "id": "fb279738",
   "metadata": {
    "scrolled": true
   },
   "outputs": [
    {
     "data": {
      "text/plain": [
       "[9 of spades,\n",
       " 9 of hearts,\n",
       " 9 of diamonds,\n",
       " 9 of clubs,\n",
       " 10 of spades,\n",
       " 10 of hearts,\n",
       " 10 of diamonds,\n",
       " 10 of clubs,\n",
       " J of spades,\n",
       " J of hearts,\n",
       " J of diamonds,\n",
       " J of clubs,\n",
       " Q of spades,\n",
       " Q of hearts,\n",
       " Q of diamonds,\n",
       " Q of clubs,\n",
       " K of spades,\n",
       " K of hearts,\n",
       " K of diamonds,\n",
       " K of clubs,\n",
       " A of spades,\n",
       " A of hearts,\n",
       " A of diamonds,\n",
       " A of clubs]"
      ]
     },
     "execution_count": 42,
     "metadata": {},
     "output_type": "execute_result"
    }
   ],
   "source": [
    "deck"
   ]
  }
 ],
 "metadata": {
  "kernelspec": {
   "display_name": "Python 3 (ipykernel)",
   "language": "python",
   "name": "python3"
  },
  "language_info": {
   "codemirror_mode": {
    "name": "ipython",
    "version": 3
   },
   "file_extension": ".py",
   "mimetype": "text/x-python",
   "name": "python",
   "nbconvert_exporter": "python",
   "pygments_lexer": "ipython3",
   "version": "3.11.4"
  }
 },
 "nbformat": 4,
 "nbformat_minor": 5
}
